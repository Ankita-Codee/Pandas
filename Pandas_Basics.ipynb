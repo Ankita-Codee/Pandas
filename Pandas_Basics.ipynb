{
 "cells": [
  {
   "cell_type": "code",
   "execution_count": 1,
   "id": "a5e2fddf",
   "metadata": {},
   "outputs": [],
   "source": [
    "import pandas"
   ]
  },
  {
   "cell_type": "code",
   "execution_count": null,
   "id": "e2c5e6e8",
   "metadata": {},
   "outputs": [],
   "source": [
    "# array, list, tuple, dict, set, matrix, vector"
   ]
  },
  {
   "cell_type": "markdown",
   "id": "5af7a686",
   "metadata": {},
   "source": [
    "# Series"
   ]
  },
  {
   "cell_type": "code",
   "execution_count": 17,
   "id": "badf15f3",
   "metadata": {},
   "outputs": [
    {
     "name": "stdout",
     "output_type": "stream",
     "text": [
      "0    10\n",
      "1    20\n",
      "2    20\n",
      "3    40\n",
      "dtype: int64\n"
     ]
    }
   ],
   "source": [
    "import pandas as pd\n",
    "s1 = pd.Series([10,20,20,40])\n",
    "print(s1)"
   ]
  },
  {
   "cell_type": "code",
   "execution_count": 20,
   "id": "93adf876",
   "metadata": {},
   "outputs": [
    {
     "name": "stdout",
     "output_type": "stream",
     "text": [
      "a    10\n",
      "b    20\n",
      "c    30\n",
      "d    40\n",
      "e    50\n",
      "Name: scores, dtype: int64\n"
     ]
    }
   ],
   "source": [
    "s2 = pd.Series([10,20,30,40,50], index = ['a', 'b', 'c', 'd', 'e'], name=\"scores\")\n",
    "print(s2)"
   ]
  },
  {
   "cell_type": "code",
   "execution_count": 22,
   "id": "598b43bc",
   "metadata": {},
   "outputs": [
    {
     "name": "stdout",
     "output_type": "stream",
     "text": [
      "{'a': 10, 'b': 20, 'c': 30, 'd': 40}\n",
      "a    10\n",
      "b    20\n",
      "c    30\n",
      "d    40\n",
      "dtype: int64\n"
     ]
    }
   ],
   "source": [
    "# create series from dict\n",
    "dict1 = {'a': 10, 'b':20, 'c':30, 'd':40}\n",
    "print(dict1)\n",
    "s3=pd.Series(dict1)\n",
    "print(s3)"
   ]
  },
  {
   "cell_type": "code",
   "execution_count": 25,
   "id": "da154cea",
   "metadata": {},
   "outputs": [
    {
     "name": "stdout",
     "output_type": "stream",
     "text": [
      "0    1\n",
      "1    2\n",
      "2    3\n",
      "3    4\n",
      "4    5\n",
      "dtype: int64\n"
     ]
    }
   ],
   "source": [
    "# create series from array\n",
    "import numpy as np\n",
    "arr1 = np.array([1,2,3,4,5])\n",
    "s4 = pd.Series(arr1)\n",
    "print(s4)"
   ]
  },
  {
   "cell_type": "code",
   "execution_count": 26,
   "id": "0d3a7a31",
   "metadata": {},
   "outputs": [
    {
     "name": "stdout",
     "output_type": "stream",
     "text": [
      "{'a': 1, 'b': 'Ankita', 'c': True}\n",
      "a         1\n",
      "b    Ankita\n",
      "c      True\n",
      "dtype: object\n"
     ]
    }
   ],
   "source": [
    "dict2 = {'a': 1, 'b': 'Ankita', \"c\":True}\n",
    "print(dict2)\n",
    "s5 = pd.Series(dict2)\n",
    "print(s5)"
   ]
  },
  {
   "cell_type": "code",
   "execution_count": 29,
   "id": "20e3a6bf",
   "metadata": {},
   "outputs": [
    {
     "name": "stdout",
     "output_type": "stream",
     "text": [
      "Index(['a', 'b', 'c'], dtype='object')\n",
      "[1 'Ankita' True]\n",
      "object\n",
      "None\n",
      "(3,)\n"
     ]
    }
   ],
   "source": [
    "print(s5.index)\n",
    "print(s5.values)\n",
    "print(s5.dtypes)\n",
    "print(s5.name)\n",
    "print(s5.shape)"
   ]
  },
  {
   "cell_type": "code",
   "execution_count": null,
   "id": "a78b97d2",
   "metadata": {},
   "outputs": [],
   "source": []
  },
  {
   "cell_type": "markdown",
   "id": "d98a7e67",
   "metadata": {},
   "source": [
    "# Series Indexing and Slicing"
   ]
  },
  {
   "cell_type": "code",
   "execution_count": 30,
   "id": "f4095b8b",
   "metadata": {},
   "outputs": [
    {
     "name": "stdout",
     "output_type": "stream",
     "text": [
      "a         1\n",
      "b    Ankita\n",
      "c      True\n",
      "dtype: object\n"
     ]
    }
   ],
   "source": [
    "print(s5)"
   ]
  },
  {
   "cell_type": "code",
   "execution_count": 36,
   "id": "15512b24",
   "metadata": {},
   "outputs": [
    {
     "name": "stdout",
     "output_type": "stream",
     "text": [
      "1\n"
     ]
    },
    {
     "name": "stderr",
     "output_type": "stream",
     "text": [
      "/var/folders/20/ctmf1pgj1_j32tl4cy4gv86w0000gn/T/ipykernel_79876/1630704644.py:1: FutureWarning: Series.__getitem__ treating keys as positions is deprecated. In a future version, integer keys will always be treated as labels (consistent with DataFrame behavior). To access a value by position, use `ser.iloc[pos]`\n",
      "  print(s5[0]) # Indexing\n"
     ]
    }
   ],
   "source": [
    "print(s5[0]) # Indexing"
   ]
  },
  {
   "cell_type": "code",
   "execution_count": null,
   "id": "f86a687e",
   "metadata": {},
   "outputs": [
    {
     "name": "stdout",
     "output_type": "stream",
     "text": [
      "1\n"
     ]
    }
   ],
   "source": [
    "print(s5.loc['a'])  # indexing"
   ]
  },
  {
   "cell_type": "code",
   "execution_count": null,
   "id": "df87d8cc",
   "metadata": {},
   "outputs": [
    {
     "name": "stdout",
     "output_type": "stream",
     "text": [
      "1\n"
     ]
    }
   ],
   "source": [
    "print(s5.iloc[0]) # Positional indexing"
   ]
  },
  {
   "cell_type": "code",
   "execution_count": 39,
   "id": "a428fbb2",
   "metadata": {},
   "outputs": [
    {
     "name": "stdout",
     "output_type": "stream",
     "text": [
      "a         1\n",
      "b    Ankita\n",
      "dtype: object\n"
     ]
    }
   ],
   "source": [
    "print(s5.loc[['a','b']])"
   ]
  },
  {
   "cell_type": "code",
   "execution_count": 40,
   "id": "b847ffd7",
   "metadata": {},
   "outputs": [
    {
     "name": "stdout",
     "output_type": "stream",
     "text": [
      "a         1\n",
      "b    Ankita\n",
      "dtype: object\n"
     ]
    }
   ],
   "source": [
    "print(s5.iloc[[0,1]])"
   ]
  },
  {
   "cell_type": "code",
   "execution_count": 41,
   "id": "c3091059",
   "metadata": {},
   "outputs": [
    {
     "name": "stdout",
     "output_type": "stream",
     "text": [
      "a         1\n",
      "b    Ankita\n",
      "dtype: object\n"
     ]
    }
   ],
   "source": [
    "print(s5.iloc[0:2])"
   ]
  },
  {
   "cell_type": "code",
   "execution_count": 47,
   "id": "7be558c2",
   "metadata": {},
   "outputs": [
    {
     "name": "stdout",
     "output_type": "stream",
     "text": [
      "a     10\n",
      "b     20\n",
      "c     30\n",
      "d     40\n",
      "0    100\n",
      "1    101\n",
      "2    400\n",
      "6    700\n",
      "Name: scores, dtype: int64\n"
     ]
    }
   ],
   "source": [
    "# create series from dict\n",
    "\n",
    "data = {'a' : 10, 'b' : 20, 'c' : 30, 'd' : 40, 0 : 100, 1 : 101, 2 : 400, 6:700}\n",
    "s9 = pd.Series(data, name='scores')\n",
    "print(s9)"
   ]
  },
  {
   "cell_type": "code",
   "execution_count": 48,
   "id": "c11fe2be",
   "metadata": {},
   "outputs": [
    {
     "data": {
      "text/plain": [
       "0    100\n",
       "1    101\n",
       "2    400\n",
       "Name: scores, dtype: int64"
      ]
     },
     "execution_count": 48,
     "metadata": {},
     "output_type": "execute_result"
    }
   ],
   "source": [
    "s9.loc[0:2] # inclusive"
   ]
  },
  {
   "cell_type": "markdown",
   "id": "885f63ea",
   "metadata": {},
   "source": [
    "# DataFrame"
   ]
  },
  {
   "cell_type": "code",
   "execution_count": 50,
   "id": "9733f2d7",
   "metadata": {},
   "outputs": [],
   "source": [
    "data = {\n",
    "    'Name' : ['Ananth', 'Pushpak', 'Nikhil'],\n",
    "    'Age' : [24, 26, 28],\n",
    "    'City' : ['Bengaluru', 'Hyderabad', 'Delhi']\n",
    "}"
   ]
  },
  {
   "cell_type": "code",
   "execution_count": 51,
   "id": "aea2c006",
   "metadata": {},
   "outputs": [
    {
     "data": {
      "text/html": [
       "<div>\n",
       "<style scoped>\n",
       "    .dataframe tbody tr th:only-of-type {\n",
       "        vertical-align: middle;\n",
       "    }\n",
       "\n",
       "    .dataframe tbody tr th {\n",
       "        vertical-align: top;\n",
       "    }\n",
       "\n",
       "    .dataframe thead th {\n",
       "        text-align: right;\n",
       "    }\n",
       "</style>\n",
       "<table border=\"1\" class=\"dataframe\">\n",
       "  <thead>\n",
       "    <tr style=\"text-align: right;\">\n",
       "      <th></th>\n",
       "      <th>Name</th>\n",
       "      <th>Age</th>\n",
       "      <th>City</th>\n",
       "    </tr>\n",
       "  </thead>\n",
       "  <tbody>\n",
       "    <tr>\n",
       "      <th>0</th>\n",
       "      <td>Ananth</td>\n",
       "      <td>24</td>\n",
       "      <td>Bengaluru</td>\n",
       "    </tr>\n",
       "    <tr>\n",
       "      <th>1</th>\n",
       "      <td>Pushpak</td>\n",
       "      <td>26</td>\n",
       "      <td>Hyderabad</td>\n",
       "    </tr>\n",
       "    <tr>\n",
       "      <th>2</th>\n",
       "      <td>Nikhil</td>\n",
       "      <td>28</td>\n",
       "      <td>Delhi</td>\n",
       "    </tr>\n",
       "  </tbody>\n",
       "</table>\n",
       "</div>"
      ],
      "text/plain": [
       "      Name  Age       City\n",
       "0   Ananth   24  Bengaluru\n",
       "1  Pushpak   26  Hyderabad\n",
       "2   Nikhil   28      Delhi"
      ]
     },
     "execution_count": 51,
     "metadata": {},
     "output_type": "execute_result"
    }
   ],
   "source": [
    "df = pd.DataFrame(data)\n",
    "df"
   ]
  },
  {
   "cell_type": "code",
   "execution_count": 52,
   "id": "42bf4df2",
   "metadata": {},
   "outputs": [
    {
     "name": "stdout",
     "output_type": "stream",
     "text": [
      "      Name Age       City\n",
      "0   Ananth  24  Bengaluru\n",
      "1  Pushpak  26  Hyderabad\n",
      "2   Nikhil  28      Delhi\n"
     ]
    }
   ],
   "source": [
    "data_1 = [\n",
    "    {'Name' : 'Ananth', 'Age':'24', 'City':'Bengaluru'},\n",
    "    {'Name' : 'Pushpak', 'Age':'26', 'City':'Hyderabad'},\n",
    "    {'Name' : 'Nikhil', 'Age':'28', 'City':'Delhi'}\n",
    "]\n",
    "df_1 = pd.DataFrame(data_1)\n",
    "print(df_1)"
   ]
  },
  {
   "cell_type": "code",
   "execution_count": 53,
   "id": "fb1657f8",
   "metadata": {},
   "outputs": [
    {
     "name": "stdout",
     "output_type": "stream",
     "text": [
      "   0  1\n",
      "0  1  2\n",
      "1  3  4\n",
      "2  5  6\n"
     ]
    }
   ],
   "source": [
    "arr_data = np.array([[1,2],[3,4], [5,6]])\n",
    "df_2 = pd.DataFrame(arr_data)\n",
    "print(df_2)"
   ]
  },
  {
   "cell_type": "code",
   "execution_count": 54,
   "id": "a13bead0",
   "metadata": {},
   "outputs": [
    {
     "name": "stdout",
     "output_type": "stream",
     "text": [
      "   A  B\n",
      "0  1  2\n",
      "1  3  4\n",
      "2  5  6\n"
     ]
    }
   ],
   "source": [
    "df_2 = pd.DataFrame(arr_data, columns=['A', 'B'])\n",
    "print(df_2)"
   ]
  },
  {
   "cell_type": "code",
   "execution_count": 55,
   "id": "81d61cab",
   "metadata": {},
   "outputs": [],
   "source": [
    "data = {\n",
    "    'Name' : ['Ananth', 'Pushpak', 'Nikhil'],\n",
    "    'Age' : [24, 26, 28],\n",
    "    'City' : ['Bengaluru', 'Hyderabad', 'Delhi']\n",
    "}\n",
    "\n",
    "df_4 = pd.DataFrame(data)"
   ]
  },
  {
   "cell_type": "code",
   "execution_count": 56,
   "id": "2404f8ce",
   "metadata": {},
   "outputs": [
    {
     "name": "stdout",
     "output_type": "stream",
     "text": [
      "      Name  Age       City\n",
      "0   Ananth   24  Bengaluru\n",
      "1  Pushpak   26  Hyderabad\n",
      "2   Nikhil   28      Delhi\n"
     ]
    }
   ],
   "source": [
    "print(df_4)"
   ]
  },
  {
   "cell_type": "code",
   "execution_count": 57,
   "id": "0a3b83b9",
   "metadata": {},
   "outputs": [
    {
     "data": {
      "text/plain": [
       "pandas.core.frame.DataFrame"
      ]
     },
     "execution_count": 57,
     "metadata": {},
     "output_type": "execute_result"
    }
   ],
   "source": [
    "type(df_4)"
   ]
  },
  {
   "cell_type": "code",
   "execution_count": 58,
   "id": "631394d5",
   "metadata": {},
   "outputs": [
    {
     "name": "stdout",
     "output_type": "stream",
     "text": [
      "0     Ananth\n",
      "1    Pushpak\n",
      "2     Nikhil\n",
      "Name: Name, dtype: object\n",
      "========================================\n",
      "      Name  Age\n",
      "0   Ananth   24\n",
      "1  Pushpak   26\n",
      "2   Nikhil   28\n",
      "========================================\n",
      "Name       Ananth\n",
      "Age            24\n",
      "City    Bengaluru\n",
      "Name: 0, dtype: object\n",
      "========================================\n",
      "      Name  Age       City\n",
      "0   Ananth   24  Bengaluru\n",
      "1  Pushpak   26  Hyderabad\n",
      "========================================\n",
      "Name       Ananth\n",
      "Age            24\n",
      "City    Bengaluru\n",
      "Name: 0, dtype: object\n",
      "========================================\n",
      "     Name  Age       City\n",
      "0  Ananth   24  Bengaluru\n"
     ]
    }
   ],
   "source": [
    "print(df_4['Name'])\n",
    "print(\"=\"*40)\n",
    "print(df_4[['Name', 'Age']])\n",
    "print(\"=\"*40)\n",
    "print(df.loc[0])\n",
    "print(\"=\"*40)\n",
    "print(df.loc[0:1]) # Inclusive\n",
    "print(\"=\"*40)\n",
    "print(df.iloc[0])\n",
    "print(\"=\"*40)\n",
    "print(df.iloc[0:1]) # Exclusive"
   ]
  },
  {
   "cell_type": "code",
   "execution_count": null,
   "id": "4e5de1cb",
   "metadata": {},
   "outputs": [],
   "source": []
  },
  {
   "cell_type": "code",
   "execution_count": null,
   "id": "67b425f4",
   "metadata": {},
   "outputs": [],
   "source": []
  }
 ],
 "metadata": {
  "kernelspec": {
   "display_name": "Python 3",
   "language": "python",
   "name": "python3"
  },
  "language_info": {
   "codemirror_mode": {
    "name": "ipython",
    "version": 3
   },
   "file_extension": ".py",
   "mimetype": "text/x-python",
   "name": "python",
   "nbconvert_exporter": "python",
   "pygments_lexer": "ipython3",
   "version": "3.11.13"
  }
 },
 "nbformat": 4,
 "nbformat_minor": 5
}
